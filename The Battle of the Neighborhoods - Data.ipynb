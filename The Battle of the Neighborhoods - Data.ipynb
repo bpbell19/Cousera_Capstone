{
    "cells": [
        {
            "cell_type": "code",
            "execution_count": 1,
            "metadata": {},
            "outputs": [],
            "source": "import pandas as pd\nimport numpy as np\nimport requests"
        },
        {
            "cell_type": "markdown",
            "metadata": {},
            "source": "First, I will be pulling data from the City of Denver website. This will be used to identify all of the different neighborhoods in the City of Denver."
        },
        {
            "cell_type": "code",
            "execution_count": 4,
            "metadata": {},
            "outputs": [
                {
                    "data": {
                        "text/html": "<div>\n<style scoped>\n    .dataframe tbody tr th:only-of-type {\n        vertical-align: middle;\n    }\n\n    .dataframe tbody tr th {\n        vertical-align: top;\n    }\n\n    .dataframe thead th {\n        text-align: right;\n    }\n</style>\n<table border=\"1\" class=\"dataframe\">\n  <thead>\n    <tr style=\"text-align: right;\">\n      <th></th>\n      <th>NBHD_ID</th>\n      <th>NBHD_NAME</th>\n      <th>TYPOLOGY</th>\n      <th>NOTES</th>\n    </tr>\n  </thead>\n  <tbody>\n    <tr>\n      <th>0</th>\n      <td>2</td>\n      <td>Auraria</td>\n      <td>None</td>\n      <td>None</td>\n    </tr>\n    <tr>\n      <th>1</th>\n      <td>21</td>\n      <td>Cory - Merrill</td>\n      <td>None</td>\n      <td>None</td>\n    </tr>\n    <tr>\n      <th>2</th>\n      <td>7</td>\n      <td>Belcaro</td>\n      <td>None</td>\n      <td>None</td>\n    </tr>\n    <tr>\n      <th>3</th>\n      <td>70</td>\n      <td>Washington Park</td>\n      <td>None</td>\n      <td>None</td>\n    </tr>\n    <tr>\n      <th>4</th>\n      <td>71</td>\n      <td>Washington Park West</td>\n      <td>None</td>\n      <td>None</td>\n    </tr>\n  </tbody>\n</table>\n</div>",
                        "text/plain": "   NBHD_ID             NBHD_NAME TYPOLOGY NOTES\n0        2               Auraria     None  None\n1       21        Cory - Merrill     None  None\n2        7               Belcaro     None  None\n3       70       Washington Park     None  None\n4       71  Washington Park West     None  None"
                    },
                    "execution_count": 4,
                    "metadata": {},
                    "output_type": "execute_result"
                }
            ],
            "source": "nh_data=pd.read_csv(\"https://www.denvergov.org/media/gis/DataCatalog/statistical_neighborhoods/csv/statistical_neighborhoods.csv\")\nnh_data.head()"
        },
        {
            "cell_type": "markdown",
            "metadata": {},
            "source": "Then, I will add the gps coordinates of each neighborhood manually (I wasn't able to find data on this that was already compiled)."
        },
        {
            "cell_type": "markdown",
            "metadata": {},
            "source": "After that, I will pair the denver neighborhoods to foursquare data using those gps coordinates."
        },
        {
            "cell_type": "code",
            "execution_count": 7,
            "metadata": {},
            "outputs": [],
            "source": "### Define foursquare credentials\nCLIENT_ID = 'HTGZRSO2TRM1YIWPCVYQEYSCJ42QZXCELI2HP4QNXVJQRA4F' # your Foursquare ID\nCLIENT_SECRET = 'F2PBYRHYFSZGRS5FNH42OS5AIJJ3T254HM4SUVGADLKJDGYH' # your Foursquare Secret\nVERSION = '20180605' # Foursquare API version"
        },
        {
            "cell_type": "code",
            "execution_count": 8,
            "metadata": {},
            "outputs": [
                {
                    "data": {
                        "text/plain": "'Auraria'"
                    },
                    "execution_count": 8,
                    "metadata": {},
                    "output_type": "execute_result"
                }
            ],
            "source": "### Explore first neighborhood\nnh_data.loc[0, 'NBHD_NAME']"
        },
        {
            "cell_type": "code",
            "execution_count": null,
            "metadata": {},
            "outputs": [],
            "source": ""
        }
    ],
    "metadata": {
        "kernelspec": {
            "display_name": "Python 3.6",
            "language": "python",
            "name": "python3"
        },
        "language_info": {
            "codemirror_mode": {
                "name": "ipython",
                "version": 3
            },
            "file_extension": ".py",
            "mimetype": "text/x-python",
            "name": "python",
            "nbconvert_exporter": "python",
            "pygments_lexer": "ipython3",
            "version": "3.6.9"
        }
    },
    "nbformat": 4,
    "nbformat_minor": 1
}