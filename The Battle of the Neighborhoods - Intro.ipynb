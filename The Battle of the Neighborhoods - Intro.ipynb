{
    "cells": [
        {
            "cell_type": "markdown",
            "metadata": {},
            "source": "### Where should I focus our advertising campaign in Denver, CO?"
        },
        {
            "cell_type": "markdown",
            "metadata": {
                "collapsed": true
            },
            "source": "I work in the marketing department for a brewery. I am launching a new beer for distribution, and would like to advertise in Denver, CO. However, I only have the budget to advertise in one neighborhood in Denver. So I need to decide which neighborhood I should focus our advertisements to. \n\nI have decided that I will run our 1 advertisement in the neighborhood with the highest density of individual bars. The logic behind this is that the neighborhood with the most bars will most likely have the greatest number of people that could be interested in our new beer.\nI will use foursquare to find out which neighborhood has the greatest density of bars.\n\nIn this scenario, the stakeholders are the exectutives at the brewery I work for. They care about this problem becasue we only have the budget to run ads in one neighborhood and they would like it do be as effective as possible."
        },
        {
            "cell_type": "code",
            "execution_count": null,
            "metadata": {},
            "outputs": [],
            "source": ""
        }
    ],
    "metadata": {
        "kernelspec": {
            "display_name": "Python 3.6",
            "language": "python",
            "name": "python3"
        },
        "language_info": {
            "codemirror_mode": {
                "name": "ipython",
                "version": 3
            },
            "file_extension": ".py",
            "mimetype": "text/x-python",
            "name": "python",
            "nbconvert_exporter": "python",
            "pygments_lexer": "ipython3",
            "version": "3.6.9"
        }
    },
    "nbformat": 4,
    "nbformat_minor": 1
}